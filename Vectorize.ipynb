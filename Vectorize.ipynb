{
 "cells": [
  {
   "cell_type": "code",
   "execution_count": 1,
   "metadata": {},
   "outputs": [
    {
     "name": "stdout",
     "output_type": "stream",
     "text": [
      "Python: 2.7.13 (default, May 29 2017, 09:41:27) \n",
      "[GCC 4.2.1 Compatible Apple LLVM 6.0 (clang-600.0.57)]\n",
      "{u'duke': 2, u'basketball': 1, u'lost': 4, u'played': 5, u'game': 3, u'sandwich': 6, u'unc': 7, u'ate': 0}\n",
      "[[ 2.23606798]]\n",
      "[[ 3.]]\n",
      "[[ 2.44948974]]\n",
      "[[ 2.64575131]]\n",
      "[[0 1 2 0 0 1 0 1]\n",
      " [0 1 1 1 1 0 0 0]\n",
      " [1 0 0 0 0 0 1 0]\n",
      " [0 1 0 1 0 0 0 0]]\n"
     ]
    }
   ],
   "source": [
    " import sys\n",
    "# Python version\n",
    "print('Python: {}'.format(sys.version))\n",
    "\n",
    "sys.path.append('/System/Library/Frameworks/Python.framework/Versions/2.7/Extras/lib/python/')\n",
    "sys.path.append('/Library/Python/2.7/site-packages/')\n",
    "from sklearn.feature_extraction.text import CountVectorizer\n",
    "from sklearn.metrics.pairwise import euclidean_distances\n",
    "    \n",
    "corpus = [\n",
    "    'UNC played Duke in basketball Duke',\n",
    "    'Duke lost the basketball game',\n",
    "    'I ate a sandwich',\n",
    "    'I game of basketball'\n",
    "]\n",
    "vectorizer = CountVectorizer(stop_words='english')\n",
    "\n",
    "res=  vectorizer.fit_transform(corpus).todense()\n",
    "print vectorizer.vocabulary_\n",
    "\n",
    "print euclidean_distances(res[0],res[1])\n",
    "print euclidean_distances(res[0],res[2])\n",
    "print euclidean_distances(res[1],res[2])\n",
    "\n",
    "print euclidean_distances(res[0],res[3])\n",
    "\n",
    "print vectorizer.fit_transform(corpus).todense()"
   ]
  },
  {
   "cell_type": "code",
   "execution_count": null,
   "metadata": {},
   "outputs": [],
   "source": []
  }
 ],
 "metadata": {
  "kernelspec": {
   "display_name": "Python 2",
   "language": "python",
   "name": "python2"
  },
  "language_info": {
   "codemirror_mode": {
    "name": "ipython",
    "version": 2
   },
   "file_extension": ".py",
   "mimetype": "text/x-python",
   "name": "python",
   "nbconvert_exporter": "python",
   "pygments_lexer": "ipython2",
   "version": "2.7.13"
  }
 },
 "nbformat": 4,
 "nbformat_minor": 2
}
