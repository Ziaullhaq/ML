{
 "cells": [
  {
   "cell_type": "code",
   "execution_count": 1,
   "metadata": {},
   "outputs": [
    {
     "name": "stdout",
     "output_type": "stream",
     "text": [
      "Python: 2.7.13 (default, May 29 2017, 09:41:27) \n",
      "[GCC 4.2.1 Compatible Apple LLVM 6.0 (clang-600.0.57)]\n",
      "prediction 1.749569\n",
      "RESIDUAL SUM OF SQUARES (RSS) 1.749569\n",
      "R-squared: 0.6620\n",
      "[ 1.96551724]\n",
      "[[ 0.9762931]]\n"
     ]
    }
   ],
   "source": [
    "import sys\n",
    "# Python version\n",
    "print('Python: {}'.format(sys.version))\n",
    "\n",
    "sys.path.append('/System/Library/Frameworks/Python.framework/Versions/2.7/Extras/lib/python/')\n",
    "sys.path.append('/Library/Python/2.7/site-packages/')\n",
    "from sklearn.linear_model import LinearRegression\n",
    "import matplotlib.pyplot as plt\n",
    "import numpy as np\n",
    "\n",
    "    \n",
    "X = [[6], [8], [10], [14], [18]]\n",
    "y = [[7], [9], [13], [17.5], [18]]\n",
    "\n",
    "model = LinearRegression()\n",
    "model.fit(X, y)\n",
    "cost = np.mean((model.predict(X) - y) ** 2)\n",
    "print 'prediction %f' % cost\n",
    "res = model.predict([12][0])\n",
    "print 'RESIDUAL SUM OF SQUARES (RSS) %f' % cost\n",
    "\n",
    "X_test = [[8], [9], [11], [16], [12]]\n",
    "y_test = [[11], [8.5], [15], [18], [11]]   \n",
    "score = model.score(X_test,y_test)\n",
    "\n",
    "print 'R-squared: %.4f' % score\n",
    "\n",
    "print model.intercept_\n",
    "print model.coef_\n"
   ]
  },
  {
   "cell_type": "code",
   "execution_count": null,
   "metadata": {},
   "outputs": [],
   "source": []
  }
 ],
 "metadata": {
  "kernelspec": {
   "display_name": "Python 2",
   "language": "python",
   "name": "python2"
  },
  "language_info": {
   "codemirror_mode": {
    "name": "ipython",
    "version": 2
   },
   "file_extension": ".py",
   "mimetype": "text/x-python",
   "name": "python",
   "nbconvert_exporter": "python",
   "pygments_lexer": "ipython2",
   "version": "2.7.13"
  }
 },
 "nbformat": 4,
 "nbformat_minor": 2
}
