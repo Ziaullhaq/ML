{
 "cells": [
  {
   "cell_type": "code",
   "execution_count": 1,
   "metadata": {},
   "outputs": [
    {
     "name": "stdout",
     "output_type": "stream",
     "text": [
      "Python: 2.7.13 (default, May 29 2017, 09:41:27) \n",
      "[GCC 4.2.1 Compatible Apple LLVM 6.0 (clang-600.0.57)]\n",
      "['ham' 'spam' 'ham' ..., 'ham' 'spam' 'ham']\n",
      "['spam' 'ham']\n",
      "[[1209   42]\n",
      " [   2  140]]\n",
      "Accuracy: 0.968413496052\n"
     ]
    }
   ],
   "source": [
    " import sys\n",
    "# Python version\n",
    "print('Python: {}'.format(sys.version))\n",
    "\n",
    "sys.path.append('/System/Library/Frameworks/Python.framework/Versions/2.7/Extras/lib/python/')\n",
    "sys.path.append('/Library/Python/2.7/site-packages/')\n",
    "\n",
    "import pandas as pd\n",
    "import numpy as np\n",
    "import matplotlib.pyplot as plt\n",
    "from sklearn.metrics import confusion_matrix\n",
    "from sklearn.feature_extraction.text import TfidfVectorizer\n",
    "from sklearn.linear_model.logistic import LogisticRegression\n",
    "from sklearn.model_selection import train_test_split, cross_val_score\n",
    "from sklearn.metrics import accuracy_score\n",
    "\n",
    "df = pd.read_csv('./data/SMSSpamCollection', delimiter='\\t', header=None)\n",
    "\n",
    "X_train_raw, X_test_raw, y_train, y_test = train_test_split(df[1],df[0])\n",
    " \n",
    "vectorizer = TfidfVectorizer()\n",
    "X_train = vectorizer.fit_transform(X_train_raw)\n",
    "classifier = LogisticRegression()\n",
    "classifier.fit(X_train, y_train)\n",
    " \n",
    "X_test = vectorizer.transform(X_test_raw)\n",
    "y_test_result = classifier.predict(X_test)\n",
    "print(y_test_result)\n",
    "\n",
    "test = vectorizer.transform( ['URGENT! Your Mobile No 1234 was awarded a Prize', 'Hey honey, whats up?'] )\n",
    "predictions = classifier.predict(test)\n",
    "print(predictions)\n",
    "\n",
    "confusion_matrix = confusion_matrix(y_test_result, y_test)\n",
    "print(confusion_matrix)\n",
    "\n",
    "'''\n",
    "plt.matshow(confusion_matrix)\n",
    "plt.title('Confusion matrix')\n",
    "plt.colorbar()\n",
    "plt.ylabel('True label')\n",
    "plt.xlabel('Predicted label')\n",
    "plt.show()\n",
    "'''\n",
    "print 'Accuracy:', accuracy_score(y_test_result, y_test)"
   ]
  },
  {
   "cell_type": "code",
   "execution_count": null,
   "metadata": {},
   "outputs": [],
   "source": []
  }
 ],
 "metadata": {
  "kernelspec": {
   "display_name": "Python 2",
   "language": "python",
   "name": "python2"
  },
  "language_info": {
   "codemirror_mode": {
    "name": "ipython",
    "version": 2
   },
   "file_extension": ".py",
   "mimetype": "text/x-python",
   "name": "python",
   "nbconvert_exporter": "python",
   "pygments_lexer": "ipython2",
   "version": "2.7.13"
  }
 },
 "nbformat": 4,
 "nbformat_minor": 2
}
