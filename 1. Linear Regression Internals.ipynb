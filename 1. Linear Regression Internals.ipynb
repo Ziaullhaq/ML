{
 "cells": [
  {
   "cell_type": "code",
   "execution_count": 2,
   "metadata": {},
   "outputs": [
    {
     "name": "stdout",
     "output_type": "stream",
     "text": [
      "Python: 2.7.13 (default, May 29 2017, 09:41:27) \n",
      "[GCC 4.2.1 Compatible Apple LLVM 6.0 (clang-600.0.57)]\n",
      "12.9\n",
      "11.2\n",
      "23.2\n",
      "23.2\n",
      "22.65\n",
      "22.65\n",
      "0.976293103448\n",
      "1.96551724138\n"
     ]
    }
   ],
   "source": [
    "import sys\n",
    "# Python version\n",
    "print('Python: {}'.format(sys.version))\n",
    "\n",
    "sys.path.append('/System/Library/Frameworks/Python.framework/Versions/2.7/Extras/lib/python/')\n",
    "sys.path.append('/Library/Python/2.7/site-packages/')\n",
    "from __future__ import division\n",
    "import numpy as np\n",
    "xbar =  (6 + 8 + 10 + 14 + 18) / 5\n",
    "ybar = (7 + 9 + 13 + 17.5 + 18) / 5\n",
    "\n",
    "print ybar\n",
    "print xbar\n",
    "\n",
    "variance = ((6 - xbar)**2 + (8 - xbar)**2 + (10 - xbar)**2 + (14 - xbar)**2 + (18 - xbar)**2) / 4\n",
    "print variance\n",
    "print np.var([6, 8, 10, 14, 18], ddof=1)\n",
    "\n",
    "    \n",
    "cov = ((6 - xbar) * (7 - ybar) + (8 - xbar) * (9 - ybar) + (10 - xbar) * (13 - ybar) + \\\n",
    "       (14 - xbar) * (17.5 - ybar) + (18 - xbar) * (18 - ybar)) / 4\n",
    "print cov\n",
    "print np.cov([6, 8, 10, 14, 18], [7, 9, 13, 17.5, 18])[0][1]\n",
    "\n",
    "beta = cov / variance\n",
    "print beta\n",
    "\n",
    "alpha = ybar - beta * xbar\n",
    "print alpha"
   ]
  },
  {
   "cell_type": "code",
   "execution_count": null,
   "metadata": {},
   "outputs": [],
   "source": []
  }
 ],
 "metadata": {
  "kernelspec": {
   "display_name": "Python 2",
   "language": "python",
   "name": "python2"
  },
  "language_info": {
   "codemirror_mode": {
    "name": "ipython",
    "version": 2
   },
   "file_extension": ".py",
   "mimetype": "text/x-python",
   "name": "python",
   "nbconvert_exporter": "python",
   "pygments_lexer": "ipython2",
   "version": "2.7.13"
  }
 },
 "nbformat": 4,
 "nbformat_minor": 2
}
