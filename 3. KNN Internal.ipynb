{
 "cells": [
  {
   "cell_type": "code",
   "execution_count": null,
   "metadata": {},
   "outputs": [],
   "source": [
    "\n",
    "import sys\n",
    "# Python version\n",
    "print('Python: {}'.format(sys.version))\n",
    "\n",
    "sys.path.append('/System/Library/Frameworks/Python.framework/Versions/2.7/Extras/lib/python/')\n",
    "sys.path.append('/Library/Python/2.7/site-packages/')\n",
    "import math\n",
    "import pandas\n",
    "\n",
    "X= [[3.393533211,2.331273381],[\n",
    "3.110073483,1.781539638],[\n",
    "1.343808831,3.368360954],[\n",
    "3.582294042,4.67917911],[\n",
    "2.280362439,2.866990263],[\n",
    "7.423436942,4.696522875],[\n",
    "5.745051997,3.533989803],[\n",
    "9.172168622,2.511101045],[\n",
    "7.792783481,3.424088941],[\n",
    "7.939820817,0.791637231]]\n",
    "\n",
    "Y = [2.280362439,2.866990263]\n",
    "\n",
    "def euclidean_distance(row):\n",
    "    return math.sqrt(((row[0] - Y[0]) ** 2) + ((row[1] - Y[1]) ** 2))\n",
    "\n",
    "#res = [ (((row[0] - Y[0]) ** 2) + ((row[1] - Y[1]) ** 2)) for row in X ]\n",
    "\n",
    "res = [ [euclidean_distance(row),ind] for ind,row in enumerate(X) ]\n",
    "\n",
    "print res.sort()\n",
    "print res"
   ]
  }
 ],
 "metadata": {
  "kernelspec": {
   "display_name": "Python 2",
   "language": "python",
   "name": "python2"
  },
  "language_info": {
   "codemirror_mode": {
    "name": "ipython",
    "version": 2
   },
   "file_extension": ".py",
   "mimetype": "text/x-python",
   "name": "python",
   "nbconvert_exporter": "python",
   "pygments_lexer": "ipython2",
   "version": "2.7.13"
  }
 },
 "nbformat": 4,
 "nbformat_minor": 2
}
